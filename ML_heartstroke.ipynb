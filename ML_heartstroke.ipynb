{
  "nbformat": 4,
  "nbformat_minor": 0,
  "metadata": {
    "colab": {
      "provenance": []
    },
    "kernelspec": {
      "name": "python3",
      "display_name": "Python 3"
    },
    "language_info": {
      "name": "python"
    }
  },
  "cells": [
    {
      "cell_type": "code",
      "execution_count": null,
      "metadata": {
        "id": "GFtSqLmKfyJ0"
      },
      "outputs": [],
      "source": [
        "import pandas as pd\n",
        "import numpy as np\n",
        "import seaborn as sns\n",
        "import matplotlib.pyplot as plt\n",
        "\n"
      ]
    },
    {
      "cell_type": "code",
      "source": [
        "health_data=pd.read_csv('Dataset12-Heart-Stroke-Data.csv')\n",
        "health_data.head()\n"
      ],
      "metadata": {
        "id": "XgxyeWYof1OI"
      },
      "execution_count": null,
      "outputs": []
    },
    {
      "cell_type": "code",
      "source": [
        "health_data.shape()\n"
      ],
      "metadata": {
        "id": "cYwGSVMSf5kC"
      },
      "execution_count": null,
      "outputs": []
    },
    {
      "cell_type": "code",
      "source": [
        "health_data.columns"
      ],
      "metadata": {
        "id": "xlGMWyvZf7-L"
      },
      "execution_count": null,
      "outputs": []
    },
    {
      "cell_type": "markdown",
      "source": [
        "Drop Colums-\n"
      ],
      "metadata": {
        "id": "gVHWNqtelEtL"
      }
    },
    {
      "cell_type": "code",
      "source": [
        "health_data.drop(['id'],axis=1,inplace=True)"
      ],
      "metadata": {
        "id": "i0T1vRe-lGn1"
      },
      "execution_count": null,
      "outputs": []
    },
    {
      "cell_type": "code",
      "source": [
        "health_data.dtypes"
      ],
      "metadata": {
        "id": "baaGNFURlbIE"
      },
      "execution_count": null,
      "outputs": []
    },
    {
      "cell_type": "code",
      "source": [
        "health_data.info()"
      ],
      "metadata": {
        "id": "Q4lwp1thldfX"
      },
      "execution_count": null,
      "outputs": []
    },
    {
      "cell_type": "code",
      "source": [
        "health_data[health_data.duplicated()]"
      ],
      "metadata": {
        "id": "7tGL277zlimf"
      },
      "execution_count": null,
      "outputs": []
    },
    {
      "cell_type": "code",
      "source": [
        "health_data.isnull().sum()"
      ],
      "metadata": {
        "id": "Bv7V-FHxll-z"
      },
      "execution_count": null,
      "outputs": []
    },
    {
      "cell_type": "code",
      "source": [
        "health_data['bmi'].mean()"
      ],
      "metadata": {
        "id": "0N2-AXbIlyn-"
      },
      "execution_count": null,
      "outputs": []
    },
    {
      "cell_type": "code",
      "source": [
        "health_data['bmi']=health_data['bmi'].fillna(health_data['bmi'].mean())"
      ],
      "metadata": {
        "id": "pjpMjSUHl5wz"
      },
      "execution_count": null,
      "outputs": []
    },
    {
      "cell_type": "markdown",
      "source": [
        "Visualisation of Categorical Columns"
      ],
      "metadata": {
        "id": "nADWjvNwmJNq"
      }
    },
    {
      "cell_type": "code",
      "source": [
        "Cat_columns=health_data.select_dtypes(exclude=np.number).columns\n",
        "Cat_columns"
      ],
      "metadata": {
        "id": "ddzstwDSmMI_"
      },
      "execution_count": null,
      "outputs": []
    },
    {
      "cell_type": "code",
      "source": [
        "for col in Cat_columns:\n",
        "  plt.figure(figsize=(4,3))\n",
        "  ax=health_data[col].value_counts().plot(kind='bar')\n",
        "  for i in ax.containers:\n",
        "    ax.bar_label(i)\n",
        "  plt.show()"
      ],
      "metadata": {
        "id": "rtX3PtP5mdh_"
      },
      "execution_count": null,
      "outputs": []
    },
    {
      "cell_type": "markdown",
      "source": [
        "Numerical Columns"
      ],
      "metadata": {
        "id": "YNwC1Nqhm0kJ"
      }
    },
    {
      "cell_type": "code",
      "source": [
        "Num_columns=health_data.select_dtypes(include=np.number).columns\n",
        "Num_columns"
      ],
      "metadata": {
        "id": "Mij95DCkm33a"
      },
      "execution_count": null,
      "outputs": []
    },
    {
      "cell_type": "code",
      "source": [
        "Num_columns=['age','avg_glucose_level','bmi']"
      ],
      "metadata": {
        "id": "VYNBOSfRnTc8"
      },
      "execution_count": null,
      "outputs": []
    },
    {
      "cell_type": "markdown",
      "source": [
        "Numerical Columns- histogram"
      ],
      "metadata": {
        "id": "xO2poqZEnoNE"
      }
    },
    {
      "cell_type": "code",
      "source": [
        "for col in Num_cols:\n",
        "  plt.figure(figsize=(4,3))\n",
        "  health_data[col].plot(kind='hist')\n",
        "  for i in ax.containers:\n",
        "    ax.bar_label(i)\n",
        "  plt.show()"
      ],
      "metadata": {
        "id": "sD0Ee323np0R"
      },
      "execution_count": null,
      "outputs": []
    },
    {
      "cell_type": "markdown",
      "source": [
        "Numerical Columns- box plot"
      ],
      "metadata": {
        "id": "NAY7xhdXn-h2"
      }
    },
    {
      "cell_type": "code",
      "source": [
        "for col in Num_cols:\n",
        "  plt.figure(figsize=(4,3))\n",
        "  health_data[col].plot(kind='box')\n",
        "  for i in ax.containers:\n",
        "    ax.bar_label(i)\n",
        "  plt.show()"
      ],
      "metadata": {
        "id": "UGwL1e0voArx"
      },
      "execution_count": null,
      "outputs": []
    },
    {
      "cell_type": "markdown",
      "source": [
        "Scatter plot- correlation among Numeric variables"
      ],
      "metadata": {
        "id": "rvZPIPjeoLVP"
      }
    },
    {
      "cell_type": "code",
      "source": [
        "plt.figure(figsize=(4,3))\n",
        "plt.scatter(health_data.age,health_data.bmi)\n",
        "plt.show()\n"
      ],
      "metadata": {
        "id": "HEP6CiT_oQKI"
      },
      "execution_count": null,
      "outputs": []
    },
    {
      "cell_type": "code",
      "source": [
        "plt.figure(figsize=(4,3))\n",
        "plt.scatter(x = health_data.age, y = health_data.avg_glucose_level)\n",
        "plt.show()"
      ],
      "metadata": {
        "id": "GjbWZONdokJK"
      },
      "execution_count": null,
      "outputs": []
    },
    {
      "cell_type": "code",
      "source": [
        "plt.figure(figsize=(4,3))\n",
        "plt.scatter(x = health_data.bmi, y = health_data.avg_glucose_level)\n",
        "plt.show()"
      ],
      "metadata": {
        "id": "xtVfUqxuo1b7"
      },
      "execution_count": null,
      "outputs": []
    },
    {
      "cell_type": "markdown",
      "source": [
        "Correlation matrix"
      ],
      "metadata": {
        "id": "wAsPl6Vpo5Np"
      }
    },
    {
      "cell_type": "code",
      "source": [
        "cor_matrix=health_data[Num_columns].corr()\n",
        "cor_matrix"
      ],
      "metadata": {
        "id": "VwhOddEmo7ME"
      },
      "execution_count": null,
      "outputs": []
    },
    {
      "cell_type": "code",
      "source": [
        "sns.heatmap(cor_matrix,annot=True)"
      ],
      "metadata": {
        "id": "pJO-KvV0pEsn"
      },
      "execution_count": null,
      "outputs": []
    },
    {
      "cell_type": "code",
      "source": [
        "health_data.head()"
      ],
      "metadata": {
        "id": "UBZHWw7kpMP9"
      },
      "execution_count": null,
      "outputs": []
    },
    {
      "cell_type": "markdown",
      "source": [],
      "metadata": {
        "id": "fF39p4Ezn78R"
      }
    },
    {
      "cell_type": "markdown",
      "source": [
        "Balance the Data\n",
        "\n",
        "Target variable- stroke"
      ],
      "metadata": {
        "id": "5LR_yLQypP56"
      }
    },
    {
      "cell_type": "code",
      "source": [
        "health_data.shape"
      ],
      "metadata": {
        "id": "lZCABzXwpaUx"
      },
      "execution_count": null,
      "outputs": []
    },
    {
      "cell_type": "code",
      "source": [
        "health_data.stroke.value_counts()"
      ],
      "metadata": {
        "id": "U1wnowb6pfA_"
      },
      "execution_count": null,
      "outputs": []
    },
    {
      "cell_type": "code",
      "source": [
        "ax=health_data.stroke.value_counts().plot(kind='bar')\n",
        "  for i in ax.containers:\n",
        "    ax.bar_label(i)\n",
        "\n"
      ],
      "metadata": {
        "id": "3Alvl5_Cpipk"
      },
      "execution_count": null,
      "outputs": []
    },
    {
      "cell_type": "code",
      "source": [
        "stroke_df=health_data[health_data['stroke']==1]\n",
        "stroke_df.shape"
      ],
      "metadata": {
        "id": "PPMv_2jMpR6d"
      },
      "execution_count": null,
      "outputs": []
    },
    {
      "cell_type": "code",
      "source": [],
      "metadata": {
        "id": "URaOn1dep6ee"
      },
      "execution_count": null,
      "outputs": []
    },
    {
      "cell_type": "markdown",
      "source": [],
      "metadata": {
        "id": "91u_gzP-nlAI"
      }
    },
    {
      "cell_type": "markdown",
      "source": [],
      "metadata": {
        "id": "LYlRyKM9ndia"
      }
    }
  ]
}